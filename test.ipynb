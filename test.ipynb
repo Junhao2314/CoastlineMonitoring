{
 "cells": [
  {
   "cell_type": "markdown",
   "id": "ad30dd2f",
   "metadata": {},
   "source": [
    "# Init"
   ]
  },
  {
   "cell_type": "code",
   "execution_count": 4,
   "id": "8688ed75",
   "metadata": {},
   "outputs": [
    {
     "name": "stdout",
     "output_type": "stream",
     "text": [
      "[2025-07-18 16:09:18] 开始测试代理连接...\n",
      "✅ Google 连接成功! 状态码: 200, 响应时间: 1.20秒\n",
      "📍 当前 IP 信息: {\n",
      "  \"ip\": \"188.253.121.162\",\n",
      "  \"city\": \"Singapore\",\n",
      "  \"region\": \"Singapore\",\n",
      "  \"country\": \"SG\",\n",
      "  \"loc\": \"1.2897,103.8501\",\n",
      "  \"org\": \"AS38136 Akari Networks\",\n",
      "  \"postal\": \"018989\",\n",
      "  \"timezone\": \"Asia/Singapore\",\n",
      "  \"readme\": \"https://ipinfo.io/missingauth\"\n",
      "}\n",
      "🌐 Cloudflare 信息: 位置=SG, warp=off\n"
     ]
    }
   ],
   "source": [
    "import requests\n",
    "import json\n",
    "from datetime import datetime\n",
    "\n",
    "def test_proxy_detailed():\n",
    "    proxies = {\n",
    "        'http': 'http://127.0.0.1:7890',\n",
    "        'https': 'http://127.0.0.1:7890'\n",
    "    }\n",
    "    \n",
    "    print(f\"[{datetime.now().strftime('%Y-%m-%d %H:%M:%S')}] 开始测试代理连接...\")\n",
    "    \n",
    "    # 测试 Google 连接\n",
    "    try:\n",
    "        start = datetime.now()\n",
    "        r = requests.get('https://www.google.com', proxies=proxies, timeout=5)\n",
    "        elapsed = (datetime.now() - start).total_seconds()\n",
    "        print(f\"✅ Google 连接成功! 状态码: {r.status_code}, 响应时间: {elapsed:.2f}秒\")\n",
    "    except Exception as e:\n",
    "        print(f\"❌ Google 连接失败: {e}\")\n",
    "    \n",
    "    # 获取 IP 信息\n",
    "    try:\n",
    "        ip_info = requests.get('https://ipinfo.io/json', proxies=proxies, timeout=5).json()\n",
    "        print(f\"📍 当前 IP 信息: {json.dumps(ip_info, indent=2, ensure_ascii=False)}\")\n",
    "    except Exception as e:\n",
    "        print(f\"❌ 获取 IP 信息失败: {e}\")\n",
    "    \n",
    "    # 测试延迟\n",
    "    try:\n",
    "        r = requests.get('https://www.cloudflare.com/cdn-cgi/trace', proxies=proxies, timeout=5)\n",
    "        cf_info = dict(line.split('=', 1) for line in r.text.splitlines() if '=' in line)\n",
    "        print(f\"🌐 Cloudflare 信息: 位置={cf_info.get('loc', '未知')}, warp={cf_info.get('warp', '未知')}\")\n",
    "    except Exception as e:\n",
    "        print(f\"❌ Cloudflare 测试失败: {e}\")\n",
    "\n",
    "# 执行测试\n",
    "test_proxy_detailed()"
   ]
  },
  {
   "cell_type": "code",
   "execution_count": null,
   "id": "f0cef246",
   "metadata": {},
   "outputs": [
    {
     "data": {
      "text/html": [
       "<p>To authorize access needed by Earth Engine, open the following\n",
       "        URL in a web browser and follow the instructions:</p>\n",
       "        <p><a href=https://code.earthengine.google.com/client-auth?scopes=https%3A//www.googleapis.com/auth/earthengine%20https%3A//www.googleapis.com/auth/cloud-platform%20https%3A//www.googleapis.com/auth/drive%20https%3A//www.googleapis.com/auth/devstorage.full_control&request_id=dzKomXfXphFkc42NG_8AOhyhBTVd32uPEFkrTnrdvvY&tc=kolP-bDWUo99oaH8JDzibTyqHW8Jw97u0jFOGaoPJ_M&cc=sP_lSAf1d9hUeRqNp9eqL2IjUPGPsO4d4LeScwL39c4>https://code.earthengine.google.com/client-auth?scopes=https%3A//www.googleapis.com/auth/earthengine%20https%3A//www.googleapis.com/auth/cloud-platform%20https%3A//www.googleapis.com/auth/drive%20https%3A//www.googleapis.com/auth/devstorage.full_control&request_id=dzKomXfXphFkc42NG_8AOhyhBTVd32uPEFkrTnrdvvY&tc=kolP-bDWUo99oaH8JDzibTyqHW8Jw97u0jFOGaoPJ_M&cc=sP_lSAf1d9hUeRqNp9eqL2IjUPGPsO4d4LeScwL39c4</a></p>\n",
       "        <p>The authorization workflow will generate a code, which you should paste in the box below.</p>\n",
       "        "
      ],
      "text/plain": [
       "<IPython.core.display.HTML object>"
      ]
     },
     "metadata": {},
     "output_type": "display_data"
    },
    {
     "name": "stdout",
     "output_type": "stream",
     "text": [
      "\n",
      "Successfully saved authorization token.\n"
     ]
    }
   ],
   "source": [
    "import geemap\n",
    "import ee\n",
    "import geopandas as gpd\n",
    "import os\n",
    "import numpy as np\n",
    "from tqdm import tqdm\n",
    "import yaml\n",
    "from pathlib import Path\n",
    "\n",
    "geemap.set_proxy(port='7890')\n",
    "ee.Authenticate()\n",
    "ee.Initialize()"
   ]
  },
  {
   "cell_type": "code",
   "execution_count": 5,
   "id": "87678897",
   "metadata": {},
   "outputs": [
    {
     "data": {
      "text/html": [
       "<div><style>:root {\n",
       "  --font-color-primary: var(--jp-content-font-color0, rgba(0, 0, 0, 1));\n",
       "  --font-color-secondary: var(--jp-content-font-color2, rgba(0, 0, 0, 0.6));\n",
       "  --font-color-accent: rgba(123, 31, 162, 1);\n",
       "  --border-color: var(--jp-border-color2, #e0e0e0);\n",
       "  --background-color: var(--jp-layout-color0, white);\n",
       "  --background-color-row-even: var(--jp-layout-color1, white);\n",
       "  --background-color-row-odd: var(--jp-layout-color2, #eeeeee);\n",
       "}\n",
       "\n",
       "html[theme=\"dark\"],\n",
       "body[data-theme=\"dark\"],\n",
       "body.vscode-dark {\n",
       "  --font-color-primary: rgba(255, 255, 255, 1);\n",
       "  --font-color-secondary: rgba(255, 255, 255, 0.6);\n",
       "  --font-color-accent: rgb(173, 132, 190);\n",
       "  --border-color: #2e2e2e;\n",
       "  --background-color: #111111;\n",
       "  --background-color-row-even: #111111;\n",
       "  --background-color-row-odd: #313131;\n",
       "}\n",
       "\n",
       ".ee {\n",
       "  padding: 1em;\n",
       "  line-height: 1.5em;\n",
       "  min-width: 300px;\n",
       "  max-width: 1200px;\n",
       "  overflow-y: scroll;\n",
       "  max-height: 600px;\n",
       "  border: 1px solid var(--border-color);\n",
       "  font-family: monospace;\n",
       "}\n",
       "\n",
       ".ee li {\n",
       "  list-style-type: none;\n",
       "}\n",
       "\n",
       ".ee ul {\n",
       "  padding-left: 1.5em !important;\n",
       "  margin: 0;\n",
       "}\n",
       "\n",
       ".ee > ul {\n",
       "  padding-left: 0 !important;\n",
       "}\n",
       "\n",
       ".ee-open,\n",
       ".ee-shut {\n",
       "  color: var(--font-color-secondary);\n",
       "  cursor: pointer;\n",
       "  margin: 0;\n",
       "}\n",
       "\n",
       ".ee-open:hover,\n",
       ".ee-shut:hover {\n",
       "  color: var(--font-color-primary);\n",
       "}\n",
       "\n",
       ".ee-k {\n",
       "  color: var(--font-color-accent);\n",
       "  margin-right: 6px;\n",
       "}\n",
       "\n",
       ".ee-v {\n",
       "  color: var(--font-color-primary);\n",
       "}\n",
       "\n",
       ".ee-toggle {\n",
       "  display: none;\n",
       "}\n",
       "\n",
       ".ee-shut + ul {\n",
       "  display: none;\n",
       "}\n",
       "\n",
       ".ee-open + ul {\n",
       "  display: block;\n",
       "}\n",
       "\n",
       ".ee-shut::before {\n",
       "  display: inline-block;\n",
       "  content: \"▼\";\n",
       "  margin-right: 6px;\n",
       "  transform: rotate(-90deg);\n",
       "  transition: transform 0.2s;\n",
       "}\n",
       "\n",
       ".ee-open::before {\n",
       "  transform: rotate(0deg);\n",
       "  display: inline-block;\n",
       "  content: \"▼\";\n",
       "  margin-right: 6px;\n",
       "  transition: transform 0.2s;\n",
       "}\n",
       "</style><div class='ee'><ul><li><span class='ee-v'>HH</span></li></ul></div><script>function toggleHeader() {\n",
       "    const parent = this.parentElement;\n",
       "    parent.className = parent.className === \"ee-open\" ? \"ee-shut\" : \"ee-open\";\n",
       "}\n",
       "\n",
       "for (let c of document.getElementsByClassName(\"ee-toggle\")) {\n",
       "    c.onclick = toggleHeader;\n",
       "}</script></div>"
      ],
      "text/plain": [
       "<ee.computedobject.ComputedObject at 0x22d5e1e9fd0>"
      ]
     },
     "execution_count": 5,
     "metadata": {},
     "output_type": "execute_result"
    }
   ],
   "source": [
    "test = ee.List(['HH', 'HV'])\n",
    "test.get(0)"
   ]
  },
  {
   "cell_type": "code",
   "execution_count": null,
   "id": "9dc44646",
   "metadata": {},
   "outputs": [],
   "source": [
    "import torch  \n",
    "torch.cuda.empty_cache()"
   ]
  },
  {
   "cell_type": "markdown",
   "id": "8d695e0b",
   "metadata": {},
   "source": [
    "# GetPixels 采样点取不同时间影像值"
   ]
  },
  {
   "cell_type": "code",
   "execution_count": 4,
   "id": "234423ac",
   "metadata": {},
   "outputs": [
    {
     "data": {
      "text/html": [
       "<p>To authorize access needed by Earth Engine, open the following\n",
       "        URL in a web browser and follow the instructions:</p>\n",
       "        <p><a href=https://code.earthengine.google.com/client-auth?scopes=https%3A//www.googleapis.com/auth/earthengine%20https%3A//www.googleapis.com/auth/devstorage.full_control&request_id=mdXICwHR6Ph-gwwvy_ymMdnkLIFgUDC4Y3WGJqhEyG4&tc=X7PqwmgUWvh5EJgfNHO32KQLcAHFJKoYFN13oz2FUL4&cc=FQhl8CXCtDSY9dFzg46JHVHVwJieI10vP_guty3JQ6s>https://code.earthengine.google.com/client-auth?scopes=https%3A//www.googleapis.com/auth/earthengine%20https%3A//www.googleapis.com/auth/devstorage.full_control&request_id=mdXICwHR6Ph-gwwvy_ymMdnkLIFgUDC4Y3WGJqhEyG4&tc=X7PqwmgUWvh5EJgfNHO32KQLcAHFJKoYFN13oz2FUL4&cc=FQhl8CXCtDSY9dFzg46JHVHVwJieI10vP_guty3JQ6s</a></p>\n",
       "        <p>The authorization workflow will generate a code, which you should paste in the box below.</p>\n",
       "        "
      ],
      "text/plain": [
       "<IPython.core.display.HTML object>"
      ]
     },
     "metadata": {},
     "output_type": "display_data"
    },
    {
     "name": "stdout",
     "output_type": "stream",
     "text": [
      "\n",
      "Successfully saved authorization token.\n"
     ]
    }
   ],
   "source": [
    "import ee\n",
    "import geemap\n",
    "ee.Authenticate()\n",
    "ee.Initialize()\n"
   ]
  },
  {
   "cell_type": "code",
   "execution_count": 10,
   "id": "b50cdb4c",
   "metadata": {},
   "outputs": [],
   "source": [
    "\n",
    "\n",
    "\n",
    "# Region of interest.\n",
    "coords = [\n",
    "    -121.58626826832939,\n",
    "    38.059141484827485,\n",
    "]\n",
    "region = ee.Geometry.Point(coords)\n",
    "\n",
    "# Sentinel-2 median composite.\n",
    "image = (ee.ImageCollection('COPERNICUS/S2')\n",
    "              .filterBounds(region)\n",
    "              .filterDate('2020-04-01', '2020-09-01')\n",
    "              .median())\n",
    "\n",
    "# Make a projection to discover the scale in degrees.\n",
    "proj = ee.Projection('EPSG:4326').atScale(10).getInfo()\n",
    "\n",
    "# Get scales out of the transform.\n",
    "scale_x = proj['transform'][0]\n",
    "scale_y = -proj['transform'][4]\n",
    "\n",
    "# Make a request object.\n",
    "request = {\n",
    "    'expression': image,\n",
    "    'fileFormat': 'PNG',\n",
    "    'bandIds': ['B4', 'B3', 'B2'],\n",
    "    'grid': {\n",
    "        'dimensions': {\n",
    "            'width': 640,\n",
    "            'height': 640\n",
    "        },\n",
    "        'affineTransform': {\n",
    "            'scaleX': scale_x,\n",
    "            'shearX': 0,\n",
    "            'translateX': coords[0],\n",
    "            'shearY': 0,\n",
    "            'scaleY': scale_y,\n",
    "            'translateY': coords[1]\n",
    "        },\n",
    "        'crsCode': proj['crs'],\n",
    "    },\n",
    "    'visualizationOptions': {'ranges': [{'min': 0, 'max': 3000}]},\n",
    "}\n",
    "\n",
    "image_png = ee.data.computePixels(request)"
   ]
  },
  {
   "cell_type": "code",
   "execution_count": 11,
   "id": "211a4fd8",
   "metadata": {},
   "outputs": [],
   "source": [
    "# Region of interest.\n",
    "coords = [\n",
    "    -121.58626826832939,\n",
    "    38.059141484827485,\n",
    "]\n",
    "region = ee.Geometry.Point(coords)\n",
    "\n",
    "# Get a Sentinel-2 image.\n",
    "image = (ee.ImageCollection('COPERNICUS/S2')\n",
    "  .filterBounds(region)\n",
    "  .filterDate('2020-04-01', '2020-09-01')\n",
    "  .sort('CLOUD_COVERAGE_ASSESSMENT')\n",
    "  .first())\n",
    "image_id = image.getInfo()['id']\n",
    "\n",
    "# Make a projection to discover the scale in degrees.\n",
    "proj = ee.Projection('EPSG:4326').atScale(10).getInfo()\n",
    "\n",
    "# Get scales out of the transform.\n",
    "scale_x = proj['transform'][0]\n",
    "scale_y = -proj['transform'][4]\n",
    "\n",
    "# Make a request object.\n",
    "request = {\n",
    "    'assetId': image_id,\n",
    "    'fileFormat': 'PNG',\n",
    "    'bandIds': ['B4', 'B3', 'B2'],\n",
    "    'grid': {\n",
    "        'dimensions': {\n",
    "            'width': 640,\n",
    "            'height': 640\n",
    "        },\n",
    "        'affineTransform': {\n",
    "            'scaleX': scale_x,\n",
    "            'shearX': 0,\n",
    "            'translateX': coords[0],\n",
    "            'shearY': 0,\n",
    "            'scaleY': scale_y,\n",
    "            'translateY': coords[1]\n",
    "        },\n",
    "        'crsCode': proj['crs'],\n",
    "    },\n",
    "    'visualizationOptions': {'ranges': [{'min': 0, 'max': 3000}]},\n",
    "}\n",
    "\n",
    "image_png = ee.data.getPixels(request)"
   ]
  },
  {
   "cell_type": "code",
   "execution_count": null,
   "id": "1a6c4c0e",
   "metadata": {},
   "outputs": [
    {
     "ename": "AttributeError",
     "evalue": "'bytes' object has no attribute 'save'",
     "output_type": "error",
     "traceback": [
      "\u001b[1;31m---------------------------------------------------------------------------\u001b[0m",
      "\u001b[1;31mAttributeError\u001b[0m                            Traceback (most recent call last)",
      "Cell \u001b[1;32mIn[14], line 1\u001b[0m\n\u001b[1;32m----> 1\u001b[0m \u001b[43mimage_png\u001b[49m\u001b[38;5;241;43m.\u001b[39;49m\u001b[43msave\u001b[49m(\u001b[38;5;124m'\u001b[39m\u001b[38;5;124msentinel2_image.png\u001b[39m\u001b[38;5;124m'\u001b[39m)\n",
      "\u001b[1;31mAttributeError\u001b[0m: 'bytes' object has no attribute 'save'"
     ]
    }
   ],
   "source": [
    "image_png"
   ]
  }
 ],
 "metadata": {
  "kernelspec": {
   "display_name": "gee",
   "language": "python",
   "name": "python3"
  },
  "language_info": {
   "codemirror_mode": {
    "name": "ipython",
    "version": 3
   },
   "file_extension": ".py",
   "mimetype": "text/x-python",
   "name": "python",
   "nbconvert_exporter": "python",
   "pygments_lexer": "ipython3",
   "version": "3.11.3"
  }
 },
 "nbformat": 4,
 "nbformat_minor": 5
}
